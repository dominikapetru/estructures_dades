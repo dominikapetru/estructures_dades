{
 "cells": [
  {
   "cell_type": "markdown",
   "id": "27ddc1cf-7b1f-4f98-b0f3-584b1215016d",
   "metadata": {
    "tags": []
   },
   "source": [
    "#Sprint 3, T01"
   ]
  },
  {
   "cell_type": "markdown",
   "id": "ad03f48d-9975-4d11-82d7-aac7784a6d0c",
   "metadata": {},
   "source": [
    "##Execise 1"
   ]
  },
  {
   "cell_type": "code",
   "execution_count": 6,
   "id": "f4e35ab0-9a30-41b1-b99c-570a5dc792ce",
   "metadata": {},
   "outputs": [
    {
     "name": "stdout",
     "output_type": "stream",
     "text": [
      "[['January', 'February', 'March', 'April'], ['May', 'June', 'July', 'August'], ['September', 'October', 'November', 'December']]\n"
     ]
    }
   ],
   "source": [
    "list1 = [\"January\", \"February\", \"March\", \"April\"]\n",
    "list2 = [\"May\", \"June\", \"July\", \"August\"]\n",
    "list3 = [\"September\", \"October\", \"November\", \"December\"]\n",
    "listYear = []\n",
    "listYear.append(list1)\n",
    "listYear.append(list2)\n",
    "listYear.append(list3)\n",
    "print(listYear)"
   ]
  },
  {
   "cell_type": "markdown",
   "id": "564fb77b-30c8-4df2-9434-b7629067f342",
   "metadata": {},
   "source": [
    "##Execise 2"
   ]
  },
  {
   "cell_type": "code",
   "execution_count": 18,
   "id": "f4bd2404-71cb-4ad8-a8a1-6ad8251220d1",
   "metadata": {},
   "outputs": [
    {
     "name": "stdout",
     "output_type": "stream",
     "text": [
      "February\n"
     ]
    }
   ],
   "source": [
    "print(listYear[0][1])"
   ]
  },
  {
   "cell_type": "code",
   "execution_count": 21,
   "id": "cf2bd811-f7c5-46bf-a7b4-1857a4b1a588",
   "metadata": {},
   "outputs": [
    {
     "name": "stdout",
     "output_type": "stream",
     "text": [
      "['January', 'February', 'March', 'April']\n"
     ]
    }
   ],
   "source": [
    "print(listYear[0])"
   ]
  },
  {
   "cell_type": "code",
   "execution_count": 19,
   "id": "029be7ae-95b6-4958-a86f-ad7a06392408",
   "metadata": {},
   "outputs": [
    {
     "name": "stdout",
     "output_type": "stream",
     "text": [
      "['September', 'October']\n"
     ]
    }
   ],
   "source": [
    "print(listYear[2][:2])"
   ]
  },
  {
   "cell_type": "markdown",
   "id": "f3daa22f-9d96-4782-b872-148b12efe98e",
   "metadata": {},
   "source": [
    "##Execise 3"
   ]
  },
  {
   "cell_type": "code",
   "execution_count": 54,
   "id": "240971c6-9088-4854-b7b1-822b16d1bbb7",
   "metadata": {},
   "outputs": [
    {
     "name": "stdout",
     "output_type": "stream",
     "text": [
      "9\n",
      "0\n",
      "0\n",
      "68\n",
      "[12, 10, 5, 4]\n",
      "[0, 1, 2, 3, 4, 5, 6, 7, 8]\n"
     ]
    }
   ],
   "source": [
    "myList = [10, 12, 5, 25, 56, 68, 13, 27, 4]\n",
    "\n",
    "print(len(myList))\n",
    "\n",
    "print(myList.count(3))\n",
    "\n",
    "print(myList.count(3) and myList.count(4))\n",
    "\n",
    "myList.sort(reverse = True)\n",
    "print(myList[0])\n",
    "\n",
    "print(myList[5:])\n",
    "\n",
    "print(list(range(len(myList))))"
   ]
  },
  {
   "cell_type": "markdown",
   "id": "62649979-0335-4494-af7d-b5fb4877400d",
   "metadata": {},
   "source": [
    "##Execise 4"
   ]
  },
  {
   "cell_type": "code",
   "execution_count": 66,
   "id": "13a452f6-efd0-4c67-856d-c23dc41d069f",
   "metadata": {},
   "outputs": [
    {
     "name": "stdout",
     "output_type": "stream",
     "text": [
      "{'Pomes': {'Qty': 5, '€': 0.42}, 'Peres': {'Qty': 3, '€': 0.66}, 'Oranges': {'Qty': 6, '€': 1.35}}\n",
      "1.98\n",
      "14\n",
      "Oranges\n"
     ]
    }
   ],
   "source": [
    "compra = { \"Pomes\" : {\"Qty\": 5, \"€\": 0.42}, \"Peres\" : {\"Qty\": 3, \"€\": 0.66} }\n",
    "\n",
    "compra[\"Oranges\"] = {\"Qty\": 6, \"€\": 1.35}\n",
    "print(compra)\n",
    "\n",
    "print((compra[\"Peres\"][\"Qty\"])*(compra[\"Peres\"][\"€\"]))\n",
    "\n",
    "print((compra[\"Pomes\"][\"Qty\"])+(compra[\"Peres\"][\"Qty\"])+(compra[\"Oranges\"][\"Qty\"]))\n",
    "\n",
    "myList = [compra[\"Pomes\"][\"€\"],compra[\"Peres\"][\"€\"],compra[\"Oranges\"][\"€\"]]\n",
    "myList.sort(reverse = True)\n",
    "price = myList[0]\n",
    "if price == 0.42:\n",
    "    print(\"Pomes\")\n",
    "elif price == 0.66:\n",
    "    print(\"Peres\")\n",
    "else:\n",
    "    print(\"Oranges\")"
   ]
  }
 ],
 "metadata": {
  "kernelspec": {
   "display_name": "Python 3",
   "language": "python",
   "name": "python3"
  },
  "language_info": {
   "codemirror_mode": {
    "name": "ipython",
    "version": 3
   },
   "file_extension": ".py",
   "mimetype": "text/x-python",
   "name": "python",
   "nbconvert_exporter": "python",
   "pygments_lexer": "ipython3",
   "version": "3.8.8"
  }
 },
 "nbformat": 4,
 "nbformat_minor": 5
}
